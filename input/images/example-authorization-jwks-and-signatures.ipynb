{
 "cells": [
  {
   "cell_type": "code",
   "execution_count": 1,
   "metadata": {},
   "outputs": [],
   "source": [
    "# To create a markdown of this notebook, run: jupyter nbconvert --to markdown example-authorization-jwks-and-signatures.ipynb\n",
    "# !pip3 install python-jose\n",
    "\n",
    "import json\n",
    "import jose.jwk\n",
    "import jose.jwt\n",
    "import jose.constants\n",
    "\n",
    "def get_signing_key(filename):\n",
    "    with open(filename) as private_key_file:\n",
    "        signing_keyset = json.load(private_key_file)\n",
    "        signing_key = [k for k in signing_keyset[\"keys\"] if \"sign\" in k[\"key_ops\"]][0]\n",
    "        return signing_key\n",
    "    \n",
    "jwt_claims = {\n",
    "  \"iss\": \"https://bili-monitor.example.com\",\n",
    "  \"sub\": \"https://bili-monitor.example.com\",\n",
    "  \"aud\": \"https://authorize.smarthealthit.org/token\",\n",
    "  \"exp\": 1422568860,\n",
    "  \"jti\": \"random-non-reusable-jwt-id-123\"\n",
    "}"
   ]
  },
  {
   "cell_type": "code",
   "execution_count": 2,
   "metadata": {},
   "outputs": [],
   "source": [
    "print(\"### Encoded JWT with RS384 Signature\")\n",
    "rsa_signing_jwk = get_signing_key(\"RS384.private.json\")\n",
    "jose.jwt.encode(\n",
    "    jwt_claims,\n",
    "    rsa_signing_jwk,\n",
    "    algorithm='RS384',\n",
    "    headers={\"kid\": rsa_signing_jwk[\"kid\"]})"
   ]
  },
  {
   "cell_type": "code",
   "execution_count": 3,
   "metadata": {},
   "outputs": [],
   "source": [
    "print(\"### Encoded JWT with ES384 Signature\")\n",
    "ec_signing_jwk  = get_signing_key(\"ES384.private.json\")\n",
    "jose.jwt.encode(\n",
    "    jwt_claims,\n",
    "    ec_signing_jwk,\n",
    "    algorithm='ES384',\n",
    "    headers={\"kid\": ec_signing_jwk[\"kid\"]})"
   ]
  }
 ],
 "metadata": {
  "kernelspec": {
   "display_name": "Python 3 (ipykernel)",
   "language": "python",
   "name": "python3"
  },
  "language_info": {
   "codemirror_mode": {
    "name": "ipython",
    "version": 3
   },
   "file_extension": ".py",
   "mimetype": "text/x-python",
   "name": "python",
   "nbconvert_exporter": "python",
   "pygments_lexer": "ipython3",
   "version": "3.8.3"
  }
 },
 "nbformat": 4,
 "nbformat_minor": 2
}
