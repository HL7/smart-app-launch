{
 "cells": [
  {
   "cell_type": "markdown",
   "metadata": {},
   "source": [
    "### Working with SMART on FHIR ID Tokens (examples)"
   ]
  },
  {
   "cell_type": "code",
   "execution_count": 1,
   "metadata": {},
   "outputs": [],
   "source": [
    "# !pip3 install python-jose\n",
    "from Crypto.PublicKey import RSA\n",
    "import json\n",
    "import jose.jwk\n",
    "import jose.jwt\n",
    "import jose.constants"
   ]
  },
  {
   "cell_type": "markdown",
   "metadata": {},
   "source": [
    "### Setup\n",
    "To create self-contained example, we'll generate a new RSA Key for a fake\n",
    "organization called \"my-ehr.org\", and we'll use that for the operations below."
   ]
  },
  {
   "cell_type": "code",
   "execution_count": 2,
   "metadata": {},
   "outputs": [],
   "source": [
    "key = RSA.generate(2048)\n",
    "\n",
    "private = key.exportKey('PEM').decode()\n",
    "public = key.publickey().exportKey().decode()\n",
    "print(public, \"\\n\\n\", private)"
   ]
  },
  {
   "cell_type": "markdown",
   "metadata": {},
   "source": [
    "### Creating an ID Token (for servers)\n",
    "Servers will create a signed JWT by following a process like this.\n",
    "\n",
    "#### Create a set of claims\n",
    "These should include:\n",
    " * `sub`: the user\n",
    " * `aud`: the app for whom this ID Token is being produced\n",
    " * `iss`: an identifier for this EHR system)\n",
    " * `profile`: the absolute URL of the FHIR resource representing the current user\n",
    " \n",
    "#### Encode them in a JWT\n",
    "Signing with the server's private key"
   ]
  },
  {
   "cell_type": "code",
   "execution_count": 3,
   "metadata": {},
   "outputs": [],
   "source": [
    "claims = {\n",
    "  \"sub\": \"alice\",\n",
    "  \"aud\": \"growth-chart-app-123\",\n",
    "  \"iss\": \"https://my-ehr.org/fhir\",\n",
    "  \"fhirUser\": \"https://my-ehr.org/fhir/Practitioner/123\"\n",
    "}\n",
    "\n",
    "\n",
    "id_token = jose.jwt.encode(\n",
    "    claims,\n",
    "    key,\n",
    "    algorithm='RS384')\n",
    "\n",
    "print(id_token)"
   ]
  },
  {
   "cell_type": "markdown",
   "metadata": {},
   "source": [
    "### Validating and using an ID Token (for clients)\n",
    "A client obtains the ID Token as the result of an authorization operation. To validate the token, the client fetches the servers's public key, and then decodes the token. While decoding the token, the client must verify that the audience ('aud') matches its own client_id\n",
    "\n"
   ]
  },
  {
   "cell_type": "code",
   "execution_count": 4,
   "metadata": {},
   "outputs": [],
   "source": [
    "jose.jwt.decode(id_token, public, audience='growth-chart-app-123')"
   ]
  }
 ],
 "metadata": {
  "kernelspec": {
   "display_name": "Python 3",
   "language": "python",
   "name": "python3"
  },
  "language_info": {
   "codemirror_mode": {
    "name": "ipython",
    "version": 3
   },
   "file_extension": ".py",
   "mimetype": "text/x-python",
   "name": "python",
   "nbconvert_exporter": "python",
   "pygments_lexer": "ipython3",
   "version": "3.8.3"
  }
 },
 "nbformat": 4,
 "nbformat_minor": 4
}
